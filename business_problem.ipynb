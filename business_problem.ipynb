{
 "cells": [
  {
   "cell_type": "markdown",
   "metadata": {},
   "source": [
    "#### Introduction\n",
    "\n",
    "This report is meant to help people in real-estate and home buyers when it comes to determining which neighbourhoods have the best home prices. This is also related to what facilities are near or available i.e. elementary schools, high schools, hospitals & grocery stores and recreational centres. \n",
    "\n",
    "#### Business Problem:  \n",
    "\n",
    "Can we use house price data to determine what neighbourhoods in New York City (NYC) have high prices\n",
    "thus helping agents who are starting business in real-estate give valuable advice to people looking to purchase houses. Can we use the Foursquare API to determine the neighbourhoods of interest. \n",
    "\n",
    "To solve this business problem, we are going to cluster NYC neighborhoods in order to recommend venues and the current average price of real estate where homebuyers can make a real estate investment. We will recommend profitable venues according to amenities and essential facilities surrounding such venues i.e. elementary schools, high schools, hospitals & supermarkets. "
   ]
  },
  {
   "cell_type": "code",
   "execution_count": null,
   "metadata": {},
   "outputs": [],
   "source": []
  }
 ],
 "metadata": {
  "kernelspec": {
   "display_name": "Python 3",
   "language": "python",
   "name": "python3"
  },
  "language_info": {
   "codemirror_mode": {
    "name": "ipython",
    "version": 3
   },
   "file_extension": ".py",
   "mimetype": "text/x-python",
   "name": "python",
   "nbconvert_exporter": "python",
   "pygments_lexer": "ipython3",
   "version": "3.6.8"
  }
 },
 "nbformat": 4,
 "nbformat_minor": 2
}
