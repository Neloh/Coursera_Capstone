{
 "cells": [
  {
   "cell_type": "markdown",
   "metadata": {},
   "source": [
    "#### Author: Sbonelo Ngobese\n",
    "\n",
    "#### Capstone Project: Real-estate business using Foursquare API and historical housing data. "
   ]
  },
  {
   "cell_type": "code",
   "execution_count": 1,
   "metadata": {},
   "outputs": [],
   "source": [
    "import pandas as pd\n",
    "import numpy as np\n",
    "%matplotlib inline\n",
    "import matplotlib.pyplot as plt\n",
    "\n",
    "import warnings\n",
    "warnings.filterwarnings(\"ignore\")\n",
    "\n",
    "import json # library to handle JSON files"
   ]
  },
  {
   "cell_type": "markdown",
   "metadata": {},
   "source": [
    "#### Let us become familiar with the data. This data was obtained from Kaggle datasets \n",
    "\n",
    "NY City data : [https://www.kaggle.com/new-york-city/nyc-property-sales#nyc-rolling-sales.csv](https://www.kaggle.com/new-york-city/nyc-property-sales#nyc-rolling-sales.csv) for house prices and the data we obtain from \n",
    "\n",
    "2014 New York City Neighborhood Names: https://geo.nyu.edu/catalog/nyu_2451_34572"
   ]
  },
  {
   "cell_type": "code",
   "execution_count": 2,
   "metadata": {},
   "outputs": [],
   "source": [
    "# Load the NYC Property data to a pandas dataframe object \n",
    "nyc_prop_data2 = pd.read_csv(\"nyc-rolling-sales.csv\", index_col=0) "
   ]
  },
  {
   "cell_type": "code",
   "execution_count": 3,
   "metadata": {},
   "outputs": [
    {
     "data": {
      "text/html": [
       "<div>\n",
       "<style scoped>\n",
       "    .dataframe tbody tr th:only-of-type {\n",
       "        vertical-align: middle;\n",
       "    }\n",
       "\n",
       "    .dataframe tbody tr th {\n",
       "        vertical-align: top;\n",
       "    }\n",
       "\n",
       "    .dataframe thead th {\n",
       "        text-align: right;\n",
       "    }\n",
       "</style>\n",
       "<table border=\"1\" class=\"dataframe\">\n",
       "  <thead>\n",
       "    <tr style=\"text-align: right;\">\n",
       "      <th></th>\n",
       "      <th>Borough</th>\n",
       "      <th>Neighborhood</th>\n",
       "      <th>Latitude</th>\n",
       "      <th>Longitude</th>\n",
       "    </tr>\n",
       "    <tr>\n",
       "      <th>PostalCode</th>\n",
       "      <th></th>\n",
       "      <th></th>\n",
       "      <th></th>\n",
       "      <th></th>\n",
       "    </tr>\n",
       "  </thead>\n",
       "  <tbody>\n",
       "    <tr>\n",
       "      <th>Bronx</th>\n",
       "      <td>Wakefield</td>\n",
       "      <td>Wakefield</td>\n",
       "      <td>40.894705</td>\n",
       "      <td>-73.847201</td>\n",
       "    </tr>\n",
       "    <tr>\n",
       "      <th>Bronx</th>\n",
       "      <td>Co-op City</td>\n",
       "      <td>Co-op City</td>\n",
       "      <td>40.874294</td>\n",
       "      <td>-73.829939</td>\n",
       "    </tr>\n",
       "    <tr>\n",
       "      <th>Bronx</th>\n",
       "      <td>Eastchester</td>\n",
       "      <td>Eastchester</td>\n",
       "      <td>40.887556</td>\n",
       "      <td>-73.827806</td>\n",
       "    </tr>\n",
       "    <tr>\n",
       "      <th>Bronx</th>\n",
       "      <td>Fieldston</td>\n",
       "      <td>Fieldston</td>\n",
       "      <td>40.895437</td>\n",
       "      <td>-73.905643</td>\n",
       "    </tr>\n",
       "    <tr>\n",
       "      <th>Bronx</th>\n",
       "      <td>Riverdale</td>\n",
       "      <td>Riverdale</td>\n",
       "      <td>40.890834</td>\n",
       "      <td>-73.912585</td>\n",
       "    </tr>\n",
       "  </tbody>\n",
       "</table>\n",
       "</div>"
      ],
      "text/plain": [
       "                Borough Neighborhood   Latitude  Longitude\n",
       "PostalCode                                                \n",
       "Bronx         Wakefield    Wakefield  40.894705 -73.847201\n",
       "Bronx        Co-op City   Co-op City  40.874294 -73.829939\n",
       "Bronx       Eastchester  Eastchester  40.887556 -73.827806\n",
       "Bronx         Fieldston    Fieldston  40.895437 -73.905643\n",
       "Bronx         Riverdale    Riverdale  40.890834 -73.912585"
      ]
     },
     "execution_count": 3,
     "metadata": {},
     "output_type": "execute_result"
    }
   ],
   "source": [
    "# Wrangle data from a JSON file \n",
    "with open('nyu_2451_34572-geojson.json') as json_data:\n",
    "    newyork_data = json.load(json_data)\n",
    "\n",
    "neighborhoods_data = newyork_data['features']\n",
    "\n",
    "# define the dataframe columns\n",
    "column_names = ['Borough', 'Neighborhood', 'Latitude', 'Longitude'] \n",
    "\n",
    "# instantiate the dataframe\n",
    "nyc_prop_data = pd.DataFrame(columns=column_names)\n",
    "\n",
    "\n",
    "for data in neighborhoods_data:\n",
    "    borough = data['properties']['borough'] \n",
    "    neighborhood_name = data['properties']['name']\n",
    "        \n",
    "    neighborhood_latlon = data['geometry']['coordinates']\n",
    "    neighborhood_lat = neighborhood_latlon[1]\n",
    "    neighborhood_lon = neighborhood_latlon[0]\n",
    "    \n",
    "    nyc_prop_data = nyc_prop_data.append({'PostalCode': borough,\n",
    "                                    'Borough':neighborhood_name,\n",
    "                                          'Neighborhood': neighborhood_name,\n",
    "                                          'Latitude': neighborhood_lat,\n",
    "                                          'Longitude': neighborhood_lon}, ignore_index=True)\n",
    "nyc_prop_data.set_index(\"PostalCode\",inplace=True)\n",
    "nyc_prop_data.head()"
   ]
  },
  {
   "cell_type": "markdown",
   "metadata": {},
   "source": [
    "#### In this data we can see that it has the longitude, latitude and neighbourhood column these should come in handy for Foursquare. "
   ]
  },
  {
   "cell_type": "code",
   "execution_count": 4,
   "metadata": {
    "scrolled": true
   },
   "outputs": [
    {
     "data": {
      "text/plain": [
       "Borough          object\n",
       "Neighborhood     object\n",
       "Latitude        float64\n",
       "Longitude       float64\n",
       "dtype: object"
      ]
     },
     "execution_count": 4,
     "metadata": {},
     "output_type": "execute_result"
    }
   ],
   "source": [
    "nyc_prop_data.dtypes"
   ]
  },
  {
   "cell_type": "code",
   "execution_count": 5,
   "metadata": {},
   "outputs": [],
   "source": [
    "nyc_prop_data.Neighborhood = [string.upper() for string in nyc_prop_data.Neighborhood.values]"
   ]
  },
  {
   "cell_type": "markdown",
   "metadata": {},
   "source": [
    "#### Some data wrangling. We merge data from NYC Properties and from the json file "
   ]
  },
  {
   "cell_type": "code",
   "execution_count": 6,
   "metadata": {},
   "outputs": [],
   "source": [
    "nyc_data = nyc_prop_data2[['NEIGHBORHOOD','SALE PRICE']]\n",
    "nyc_data.rename(columns={'SALE PRICE':'PRICE', 'NEIGHBORHOOD': 'Neighborhood'}, inplace=True)"
   ]
  },
  {
   "cell_type": "code",
   "execution_count": 7,
   "metadata": {},
   "outputs": [
    {
     "name": "stdout",
     "output_type": "stream",
     "text": [
      "(84548, 2)\n"
     ]
    }
   ],
   "source": [
    "print(nyc_data.shape)"
   ]
  },
  {
   "cell_type": "markdown",
   "metadata": {},
   "source": [
    "#### We remove the dashes i.e. - from the Property dataset and we merge this with NYC neighbourhoods names data we do this in order to enable foursquare to get a more polished dataset with relevant CITY names."
   ]
  },
  {
   "cell_type": "code",
   "execution_count": 8,
   "metadata": {},
   "outputs": [
    {
     "data": {
      "text/html": [
       "<div>\n",
       "<style scoped>\n",
       "    .dataframe tbody tr th:only-of-type {\n",
       "        vertical-align: middle;\n",
       "    }\n",
       "\n",
       "    .dataframe tbody tr th {\n",
       "        vertical-align: top;\n",
       "    }\n",
       "\n",
       "    .dataframe thead th {\n",
       "        text-align: right;\n",
       "    }\n",
       "</style>\n",
       "<table border=\"1\" class=\"dataframe\">\n",
       "  <thead>\n",
       "    <tr style=\"text-align: right;\">\n",
       "      <th></th>\n",
       "      <th>Neighborhood</th>\n",
       "      <th>PRICE</th>\n",
       "    </tr>\n",
       "  </thead>\n",
       "  <tbody>\n",
       "    <tr>\n",
       "      <th>4</th>\n",
       "      <td>ALPHABET CITY</td>\n",
       "      <td>6625000</td>\n",
       "    </tr>\n",
       "    <tr>\n",
       "      <th>5</th>\n",
       "      <td>ALPHABET CITY</td>\n",
       "      <td>-</td>\n",
       "    </tr>\n",
       "    <tr>\n",
       "      <th>6</th>\n",
       "      <td>ALPHABET CITY</td>\n",
       "      <td>-</td>\n",
       "    </tr>\n",
       "    <tr>\n",
       "      <th>7</th>\n",
       "      <td>ALPHABET CITY</td>\n",
       "      <td>3936272</td>\n",
       "    </tr>\n",
       "    <tr>\n",
       "      <th>8</th>\n",
       "      <td>ALPHABET CITY</td>\n",
       "      <td>8000000</td>\n",
       "    </tr>\n",
       "    <tr>\n",
       "      <th>9</th>\n",
       "      <td>ALPHABET CITY</td>\n",
       "      <td>-</td>\n",
       "    </tr>\n",
       "    <tr>\n",
       "      <th>10</th>\n",
       "      <td>ALPHABET CITY</td>\n",
       "      <td>3192840</td>\n",
       "    </tr>\n",
       "    <tr>\n",
       "      <th>11</th>\n",
       "      <td>ALPHABET CITY</td>\n",
       "      <td>-</td>\n",
       "    </tr>\n",
       "    <tr>\n",
       "      <th>12</th>\n",
       "      <td>ALPHABET CITY</td>\n",
       "      <td>-</td>\n",
       "    </tr>\n",
       "    <tr>\n",
       "      <th>13</th>\n",
       "      <td>ALPHABET CITY</td>\n",
       "      <td>16232000</td>\n",
       "    </tr>\n",
       "  </tbody>\n",
       "</table>\n",
       "</div>"
      ],
      "text/plain": [
       "     Neighborhood     PRICE\n",
       "4   ALPHABET CITY   6625000\n",
       "5   ALPHABET CITY       -  \n",
       "6   ALPHABET CITY       -  \n",
       "7   ALPHABET CITY   3936272\n",
       "8   ALPHABET CITY   8000000\n",
       "9   ALPHABET CITY       -  \n",
       "10  ALPHABET CITY   3192840\n",
       "11  ALPHABET CITY       -  \n",
       "12  ALPHABET CITY       -  \n",
       "13  ALPHABET CITY  16232000"
      ]
     },
     "execution_count": 8,
     "metadata": {},
     "output_type": "execute_result"
    }
   ],
   "source": [
    "nyc_data.head(10)"
   ]
  },
  {
   "cell_type": "code",
   "execution_count": 9,
   "metadata": {},
   "outputs": [],
   "source": [
    "merge_df =pd.merge(nyc_data,\n",
    "                   nyc_prop_data,\n",
    "                   how=\"inner\",\n",
    "                   on='Neighborhood')"
   ]
  },
  {
   "cell_type": "code",
   "execution_count": 10,
   "metadata": {},
   "outputs": [
    {
     "data": {
      "text/plain": [
       "(57599, 5)"
      ]
     },
     "execution_count": 10,
     "metadata": {},
     "output_type": "execute_result"
    }
   ],
   "source": [
    "merge_df.shape"
   ]
  },
  {
   "cell_type": "code",
   "execution_count": 11,
   "metadata": {},
   "outputs": [
    {
     "data": {
      "text/html": [
       "<div>\n",
       "<style scoped>\n",
       "    .dataframe tbody tr th:only-of-type {\n",
       "        vertical-align: middle;\n",
       "    }\n",
       "\n",
       "    .dataframe tbody tr th {\n",
       "        vertical-align: top;\n",
       "    }\n",
       "\n",
       "    .dataframe thead th {\n",
       "        text-align: right;\n",
       "    }\n",
       "</style>\n",
       "<table border=\"1\" class=\"dataframe\">\n",
       "  <thead>\n",
       "    <tr style=\"text-align: right;\">\n",
       "      <th></th>\n",
       "      <th>Neighborhood</th>\n",
       "      <th>PRICE</th>\n",
       "      <th>Borough</th>\n",
       "      <th>Latitude</th>\n",
       "      <th>Longitude</th>\n",
       "    </tr>\n",
       "  </thead>\n",
       "  <tbody>\n",
       "    <tr>\n",
       "      <th>0</th>\n",
       "      <td>CHELSEA</td>\n",
       "      <td>-</td>\n",
       "      <td>Chelsea</td>\n",
       "      <td>40.744035</td>\n",
       "      <td>-74.003116</td>\n",
       "    </tr>\n",
       "    <tr>\n",
       "      <th>1</th>\n",
       "      <td>CHELSEA</td>\n",
       "      <td>-</td>\n",
       "      <td>Chelsea</td>\n",
       "      <td>40.594726</td>\n",
       "      <td>-74.189560</td>\n",
       "    </tr>\n",
       "    <tr>\n",
       "      <th>2</th>\n",
       "      <td>CHELSEA</td>\n",
       "      <td>-</td>\n",
       "      <td>Chelsea</td>\n",
       "      <td>40.744035</td>\n",
       "      <td>-74.003116</td>\n",
       "    </tr>\n",
       "    <tr>\n",
       "      <th>3</th>\n",
       "      <td>CHELSEA</td>\n",
       "      <td>-</td>\n",
       "      <td>Chelsea</td>\n",
       "      <td>40.594726</td>\n",
       "      <td>-74.189560</td>\n",
       "    </tr>\n",
       "    <tr>\n",
       "      <th>4</th>\n",
       "      <td>CHELSEA</td>\n",
       "      <td>7425000</td>\n",
       "      <td>Chelsea</td>\n",
       "      <td>40.744035</td>\n",
       "      <td>-74.003116</td>\n",
       "    </tr>\n",
       "    <tr>\n",
       "      <th>5</th>\n",
       "      <td>CHELSEA</td>\n",
       "      <td>7425000</td>\n",
       "      <td>Chelsea</td>\n",
       "      <td>40.594726</td>\n",
       "      <td>-74.189560</td>\n",
       "    </tr>\n",
       "    <tr>\n",
       "      <th>6</th>\n",
       "      <td>CHELSEA</td>\n",
       "      <td>10</td>\n",
       "      <td>Chelsea</td>\n",
       "      <td>40.744035</td>\n",
       "      <td>-74.003116</td>\n",
       "    </tr>\n",
       "    <tr>\n",
       "      <th>7</th>\n",
       "      <td>CHELSEA</td>\n",
       "      <td>10</td>\n",
       "      <td>Chelsea</td>\n",
       "      <td>40.594726</td>\n",
       "      <td>-74.189560</td>\n",
       "    </tr>\n",
       "    <tr>\n",
       "      <th>8</th>\n",
       "      <td>CHELSEA</td>\n",
       "      <td>10</td>\n",
       "      <td>Chelsea</td>\n",
       "      <td>40.744035</td>\n",
       "      <td>-74.003116</td>\n",
       "    </tr>\n",
       "    <tr>\n",
       "      <th>9</th>\n",
       "      <td>CHELSEA</td>\n",
       "      <td>10</td>\n",
       "      <td>Chelsea</td>\n",
       "      <td>40.594726</td>\n",
       "      <td>-74.189560</td>\n",
       "    </tr>\n",
       "  </tbody>\n",
       "</table>\n",
       "</div>"
      ],
      "text/plain": [
       "  Neighborhood    PRICE  Borough   Latitude  Longitude\n",
       "0      CHELSEA      -    Chelsea  40.744035 -74.003116\n",
       "1      CHELSEA      -    Chelsea  40.594726 -74.189560\n",
       "2      CHELSEA      -    Chelsea  40.744035 -74.003116\n",
       "3      CHELSEA      -    Chelsea  40.594726 -74.189560\n",
       "4      CHELSEA  7425000  Chelsea  40.744035 -74.003116\n",
       "5      CHELSEA  7425000  Chelsea  40.594726 -74.189560\n",
       "6      CHELSEA       10  Chelsea  40.744035 -74.003116\n",
       "7      CHELSEA       10  Chelsea  40.594726 -74.189560\n",
       "8      CHELSEA       10  Chelsea  40.744035 -74.003116\n",
       "9      CHELSEA       10  Chelsea  40.594726 -74.189560"
      ]
     },
     "execution_count": 11,
     "metadata": {},
     "output_type": "execute_result"
    }
   ],
   "source": [
    "merge_df.head(10)"
   ]
  },
  {
   "cell_type": "code",
   "execution_count": 12,
   "metadata": {},
   "outputs": [],
   "source": [
    "merge_df.drop(['Borough'], axis=1, inplace=True)"
   ]
  },
  {
   "cell_type": "markdown",
   "metadata": {},
   "source": [
    "#### More data cleaning"
   ]
  },
  {
   "cell_type": "code",
   "execution_count": 13,
   "metadata": {},
   "outputs": [],
   "source": [
    "merge_df.replace(' -  ', np.nan, inplace=True)\n",
    "merge_df.dropna(inplace=True)\n",
    "merge_df.PRICE = merge_df.PRICE.astype(np.float64)"
   ]
  },
  {
   "cell_type": "markdown",
   "metadata": {},
   "source": [
    "#### Aggregations: Group by average price"
   ]
  },
  {
   "cell_type": "code",
   "execution_count": 14,
   "metadata": {},
   "outputs": [],
   "source": [
    "df_grp_price = merge_df.groupby(['Neighborhood', 'Latitude', 'Longitude'])['PRICE'].mean().reset_index()"
   ]
  },
  {
   "cell_type": "code",
   "execution_count": 15,
   "metadata": {},
   "outputs": [
    {
     "data": {
      "text/html": [
       "<div>\n",
       "<style scoped>\n",
       "    .dataframe tbody tr th:only-of-type {\n",
       "        vertical-align: middle;\n",
       "    }\n",
       "\n",
       "    .dataframe tbody tr th {\n",
       "        vertical-align: top;\n",
       "    }\n",
       "\n",
       "    .dataframe thead th {\n",
       "        text-align: right;\n",
       "    }\n",
       "</style>\n",
       "<table border=\"1\" class=\"dataframe\">\n",
       "  <thead>\n",
       "    <tr style=\"text-align: right;\">\n",
       "      <th></th>\n",
       "      <th>Neighborhood</th>\n",
       "      <th>Latitude</th>\n",
       "      <th>Longitude</th>\n",
       "      <th>PRICE</th>\n",
       "    </tr>\n",
       "  </thead>\n",
       "  <tbody>\n",
       "    <tr>\n",
       "      <th>0</th>\n",
       "      <td>ANNADALE</td>\n",
       "      <td>40.538114</td>\n",
       "      <td>-74.178549</td>\n",
       "      <td>6.280466e+05</td>\n",
       "    </tr>\n",
       "    <tr>\n",
       "      <th>1</th>\n",
       "      <td>ARDEN HEIGHTS</td>\n",
       "      <td>40.549286</td>\n",
       "      <td>-74.185887</td>\n",
       "      <td>3.949565e+05</td>\n",
       "    </tr>\n",
       "    <tr>\n",
       "      <th>2</th>\n",
       "      <td>ARROCHAR</td>\n",
       "      <td>40.596313</td>\n",
       "      <td>-74.067124</td>\n",
       "      <td>5.700459e+05</td>\n",
       "    </tr>\n",
       "    <tr>\n",
       "      <th>3</th>\n",
       "      <td>ARVERNE</td>\n",
       "      <td>40.589144</td>\n",
       "      <td>-73.791992</td>\n",
       "      <td>3.794519e+05</td>\n",
       "    </tr>\n",
       "    <tr>\n",
       "      <th>4</th>\n",
       "      <td>ASTORIA</td>\n",
       "      <td>40.768509</td>\n",
       "      <td>-73.915654</td>\n",
       "      <td>1.399695e+06</td>\n",
       "    </tr>\n",
       "  </tbody>\n",
       "</table>\n",
       "</div>"
      ],
      "text/plain": [
       "    Neighborhood   Latitude  Longitude         PRICE\n",
       "0       ANNADALE  40.538114 -74.178549  6.280466e+05\n",
       "1  ARDEN HEIGHTS  40.549286 -74.185887  3.949565e+05\n",
       "2       ARROCHAR  40.596313 -74.067124  5.700459e+05\n",
       "3        ARVERNE  40.589144 -73.791992  3.794519e+05\n",
       "4        ASTORIA  40.768509 -73.915654  1.399695e+06"
      ]
     },
     "execution_count": 15,
     "metadata": {},
     "output_type": "execute_result"
    }
   ],
   "source": [
    "df_grp_price.head()"
   ]
  },
  {
   "cell_type": "markdown",
   "metadata": {},
   "source": [
    "#### This is where the data section ends!"
   ]
  },
  {
   "cell_type": "code",
   "execution_count": 16,
   "metadata": {},
   "outputs": [
    {
     "data": {
      "text/plain": [
       "MURRAY HILL            2\n",
       "SUNNYSIDE              2\n",
       "CHELSEA                2\n",
       "FIELDSTON              1\n",
       "BAYCHESTER             1\n",
       "LITTLE ITALY           1\n",
       "OAKLAND GARDENS        1\n",
       "LITTLE NECK            1\n",
       "MANOR HEIGHTS          1\n",
       "CIVIC CENTER           1\n",
       "JAMAICA HILLS          1\n",
       "FRESH MEADOWS          1\n",
       "COUNTRY CLUB           1\n",
       "WILLOWBROOK            1\n",
       "ASTORIA                1\n",
       "NEW SPRINGVILLE        1\n",
       "NEW DORP               1\n",
       "HUGUENOT               1\n",
       "RIDGEWOOD              1\n",
       "BAY RIDGE              1\n",
       "WOODROW                1\n",
       "HOLLISWOOD             1\n",
       "SOUTH OZONE PARK       1\n",
       "PARK SLOPE             1\n",
       "OCEAN HILL             1\n",
       "STAPLETON              1\n",
       "RIVERDALE              1\n",
       "KENSINGTON             1\n",
       "MADISON                1\n",
       "HAMMELS                1\n",
       "                      ..\n",
       "NEPONSIT               1\n",
       "MANHATTAN VALLEY       1\n",
       "GERRITSEN BEACH        1\n",
       "BRONXDALE              1\n",
       "CANARSIE               1\n",
       "RICHMOND HILL          1\n",
       "SOUTH BEACH            1\n",
       "EMERSON HILL           1\n",
       "PLEASANT PLAINS        1\n",
       "DYKER HEIGHTS          1\n",
       "BRIARWOOD              1\n",
       "FAR ROCKAWAY           1\n",
       "MIDDLE VILLAGE         1\n",
       "LONG ISLAND CITY       1\n",
       "COLLEGE POINT          1\n",
       "WOODSIDE               1\n",
       "BUSHWICK               1\n",
       "SPRINGFIELD GARDENS    1\n",
       "SOHO                   1\n",
       "BOERUM HILL            1\n",
       "BOROUGH PARK           1\n",
       "ROSSVILLE              1\n",
       "ROCKAWAY PARK          1\n",
       "MILL BASIN             1\n",
       "MARINE PARK            1\n",
       "WOODHAVEN              1\n",
       "PROSPECT HEIGHTS       1\n",
       "TOTTENVILLE            1\n",
       "ANNADALE               1\n",
       "EAST ELMHURST          1\n",
       "Name: Neighborhood, Length: 161, dtype: int64"
      ]
     },
     "execution_count": 16,
     "metadata": {},
     "output_type": "execute_result"
    }
   ],
   "source": [
    "df_grp_price.Neighborhood.value_counts()"
   ]
  },
  {
   "cell_type": "code",
   "execution_count": 17,
   "metadata": {
    "scrolled": true
   },
   "outputs": [
    {
     "data": {
      "text/plain": [
       "Index(['Neighborhood', 'Latitude', 'Longitude', 'PRICE'], dtype='object')"
      ]
     },
     "execution_count": 17,
     "metadata": {},
     "output_type": "execute_result"
    }
   ],
   "source": [
    "df_grp_price.columns"
   ]
  },
  {
   "cell_type": "code",
   "execution_count": 18,
   "metadata": {},
   "outputs": [
    {
     "data": {
      "text/plain": [
       "(164, 4)"
      ]
     },
     "execution_count": 18,
     "metadata": {},
     "output_type": "execute_result"
    }
   ],
   "source": [
    "df_grp_price.shape"
   ]
  },
  {
   "cell_type": "code",
   "execution_count": 19,
   "metadata": {},
   "outputs": [
    {
     "name": "stdout",
     "output_type": "stream",
     "text": [
      "Libraries imported.\n"
     ]
    }
   ],
   "source": [
    "#!conda install -c conda-forge geopy --yes\n",
    "from geopy.geocoders import Nominatim # convert an address into latitude and longitude values\n",
    "\n",
    "import requests # library to handle requests\n",
    "from pandas.io.json import json_normalize # tranform JSON file into a pandas dataframe\n",
    "\n",
    "# Matplotlib and associated plotting modules\n",
    "import matplotlib.cm as cm\n",
    "import matplotlib.colors as colors\n",
    "\n",
    "import folium \n",
    "\n",
    "print('Libraries imported.')"
   ]
  },
  {
   "cell_type": "markdown",
   "metadata": {},
   "source": [
    "#### Methodology section!!!"
   ]
  },
  {
   "cell_type": "code",
   "execution_count": 20,
   "metadata": {},
   "outputs": [],
   "source": [
    "import datetime as DT\n",
    "import hmac\n",
    "from geopy.distance import vincenty\n",
    "# import k-means from clustering stage\n",
    "from sklearn.cluster import KMeans"
   ]
  },
  {
   "cell_type": "markdown",
   "metadata": {},
   "source": [
    "#### QUERY NEW YORK from GEOPY; this will be compatible with the Neighborhood names"
   ]
  },
  {
   "cell_type": "code",
   "execution_count": 22,
   "metadata": {},
   "outputs": [
    {
     "name": "stdout",
     "output_type": "stream",
     "text": [
      "The geograpical coordinate of New York City are 40.7308619, -73.9871558.\n"
     ]
    }
   ],
   "source": [
    "address = 'NEW YORK'\n",
    "\n",
    "geolocator = Nominatim()\n",
    "location = geolocator.geocode(address)\n",
    "latitude = location.latitude\n",
    "longitude = location.longitude\n",
    "print('The geograpical coordinate of New York City are {}, {}.'.format(latitude, longitude))"
   ]
  },
  {
   "cell_type": "markdown",
   "metadata": {},
   "source": [
    "#### Create the Map of NEW YORK City.\n"
   ]
  },
  {
   "cell_type": "code",
   "execution_count": 23,
   "metadata": {},
   "outputs": [
    {
     "data": {
      "text/html": [
       "<div style=\"width:100%;\"><div style=\"position:relative;width:100%;height:0;padding-bottom:60%;\"><iframe src=\"data:text/html;charset=utf-8;base64,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\" style=\"position:absolute;width:100%;height:100%;left:0;top:0;border:none !important;\" allowfullscreen webkitallowfullscreen mozallowfullscreen></iframe></div></div>"
      ],
      "text/plain": [
       "<folium.folium.Map at 0x268e10d6208>"
      ]
     },
     "execution_count": 23,
     "metadata": {},
     "output_type": "execute_result"
    }
   ],
   "source": [
    "# create map of NYC using latitude and longitude values\n",
    "map_nyc = folium.Map(location=[latitude, longitude], zoom_start=11)\n",
    "\n",
    "# add markers to map\n",
    "for lat, lng, price, street in zip(df_grp_price['Latitude'], df_grp_price['Longitude'], \n",
    "                                   df_grp_price['PRICE'], df_grp_price['Neighborhood']):\n",
    "    label = '{}, {}'.format(street, price)\n",
    "    label = folium.Popup(label, parse_html=True)\n",
    "    folium.CircleMarker(\n",
    "        [lat, lng],\n",
    "        radius=5,\n",
    "        popup=label,\n",
    "        color='blue',\n",
    "        fill=True,\n",
    "        fill_color='#3186cc',\n",
    "        fill_opacity=0.7,\n",
    "        parse_html=False).add_to(map_nyc)  \n",
    "    \n",
    "map_nyc"
   ]
  },
  {
   "cell_type": "code",
   "execution_count": 24,
   "metadata": {},
   "outputs": [
    {
     "name": "stdout",
     "output_type": "stream",
     "text": [
      "Your credentails:\n",
      "CLIENT_ID: WORJ2SDTSF4STM5GZY5SNICQ33GKOGGDCCBRQNMYQFFM32WC\n",
      "CLIENT_SECRET:035UB0G15P11XX442YNVBJOOPMMSZGHHICEPZU2NZ3STYLUV\n"
     ]
    }
   ],
   "source": [
    "CLIENT_ID = 'WORJ2SDTSF4STM5GZY5SNICQ33GKOGGDCCBRQNMYQFFM32WC' # your Foursquare ID\n",
    "CLIENT_SECRET = '035UB0G15P11XX442YNVBJOOPMMSZGHHICEPZU2NZ3STYLUV' # your Foursquare Secret\n",
    "VERSION = '20181206' # Foursquare API version\n",
    "\n",
    "print('Your credentails:')\n",
    "print('CLIENT_ID: ' + CLIENT_ID)\n",
    "print('CLIENT_SECRET:' + CLIENT_SECRET)"
   ]
  },
  {
   "cell_type": "markdown",
   "metadata": {},
   "source": [
    "#### 4. Modeling\n",
    "After exploring the dataset and gaining insights into it, we are ready to use the clustering methodology to analyze real estates. We will use the k-means clustering technique as it is fast and efficient in terms of computational cost, is highly flexible to account for mutations in real estate market in New Yor City and is accurate. "
   ]
  },
  {
   "cell_type": "code",
   "execution_count": 25,
   "metadata": {},
   "outputs": [],
   "source": [
    "def getNearbyVenues(names, latitudes, longitudes, radius=500, LIMIT=100):\n",
    "    \n",
    "    venues_list=[]\n",
    "    for name, lat, lng in zip(names, latitudes, longitudes):\n",
    "        print(name)\n",
    "            \n",
    "        # create the API request URL\n",
    "        url = 'https://api.foursquare.com/v2/venues/explore?&client_id={}&client_secret={}&v={}&ll={},{}&radius={}&limit={}'.format(\n",
    "            CLIENT_ID, \n",
    "            CLIENT_SECRET, \n",
    "            VERSION, \n",
    "            lat, \n",
    "            lng, \n",
    "            radius, \n",
    "            LIMIT)   \n",
    "        # make the GET request\n",
    "        results = requests.get(url).json()[\"response\"]['groups'][0]['items']\n",
    "        \n",
    "        # return only relevant information for each nearby venue\n",
    "        venues_list.append([(\n",
    "            name, \n",
    "            lat, \n",
    "            lng, \n",
    "            v['venue']['name'], \n",
    "            v['venue']['location']['lat'], \n",
    "            v['venue']['location']['lng'],  \n",
    "            v['venue']['categories'][0]['name']) for v in results])\n",
    "\n",
    "    nearby_venues = pd.DataFrame([item for venue_list in venues_list for item in venue_list])\n",
    "    nearby_venues.columns = ['Street', \n",
    "                  'Street Latitude', \n",
    "                  'Street Longitude', \n",
    "                  'Venue', \n",
    "                  'Venue Latitude', \n",
    "                  'Venue Longitude', \n",
    "                  'Venue Category']\n",
    "    \n",
    "    return(nearby_venues)"
   ]
  },
  {
   "cell_type": "code",
   "execution_count": null,
   "metadata": {},
   "outputs": [
    {
     "name": "stdout",
     "output_type": "stream",
     "text": [
      "ANNADALE\n",
      "ARDEN HEIGHTS\n",
      "ARROCHAR\n",
      "ARVERNE\n",
      "ASTORIA\n",
      "BATH BEACH\n",
      "BAY RIDGE\n",
      "BAYCHESTER\n",
      "BAYSIDE\n",
      "BEDFORD STUYVESANT\n",
      "BEECHHURST\n",
      "BELLE HARBOR\n",
      "BELLEROSE\n",
      "BELMONT\n",
      "BENSONHURST\n",
      "BERGEN BEACH\n",
      "BLOOMFIELD\n",
      "BOERUM HILL\n",
      "BOROUGH PARK\n",
      "BRIARWOOD\n",
      "BRIGHTON BEACH\n",
      "BROAD CHANNEL\n",
      "BRONXDALE\n",
      "BROOKLYN HEIGHTS\n",
      "BROWNSVILLE\n",
      "BULLS HEAD\n",
      "BUSHWICK\n",
      "CAMBRIA HEIGHTS\n",
      "CANARSIE\n",
      "CARROLL GARDENS\n",
      "CASTLETON CORNERS\n",
      "CHELSEA\n",
      "CHELSEA\n",
      "CHINATOWN\n",
      "CITY ISLAND\n",
      "CIVIC CENTER\n",
      "CLINTON\n",
      "CLINTON HILL\n",
      "CO-OP CITY\n",
      "COBBLE HILL\n",
      "COLLEGE POINT\n",
      "CONCORD\n",
      "CONEY ISLAND\n",
      "CORONA\n",
      "COUNTRY CLUB\n",
      "CROWN HEIGHTS\n",
      "CYPRESS HILLS\n",
      "DONGAN HILLS\n",
      "DOUGLASTON\n",
      "DYKER HEIGHTS\n",
      "EAST ELMHURST\n",
      "EAST NEW YORK\n",
      "EAST TREMONT\n",
      "EAST VILLAGE\n",
      "ELMHURST\n",
      "ELTINGVILLE\n",
      "EMERSON HILL\n",
      "FAR ROCKAWAY\n",
      "FIELDSTON\n",
      "FLATIRON\n",
      "FLATLANDS\n",
      "FLORAL PARK\n",
      "FORDHAM\n",
      "FOREST HILLS\n",
      "FORT GREENE\n",
      "FRESH MEADOWS\n",
      "GERRITSEN BEACH\n",
      "GLEN OAKS\n",
      "GLENDALE\n",
      "GOWANUS\n",
      "GRAMERCY\n",
      "GRANT CITY\n",
      "GRASMERE\n",
      "GRAVESEND\n",
      "GREAT KILLS\n",
      "GREENPOINT\n",
      "GRYMES HILL\n",
      "HAMMELS\n",
      "HILLCREST\n",
      "HOLLIS\n",
      "HOLLISWOOD\n",
      "HOWARD BEACH\n",
      "HUGUENOT\n",
      "HUNTS POINT\n",
      "INWOOD\n",
      "JACKSON HEIGHTS\n",
      "JAMAICA ESTATES\n",
      "JAMAICA HILLS\n",
      "KENSINGTON\n",
      "KEW GARDENS\n",
      "LAURELTON\n",
      "LITTLE ITALY\n",
      "LITTLE NECK\n",
      "LONG ISLAND CITY\n"
     ]
    }
   ],
   "source": [
    "# Run the above function on each location and create a new dataframe called location_venues and display it.\n",
    "location_venues = getNearbyVenues(names=df_grp_price['Neighborhood'],\n",
    "                                   latitudes=df_grp_price['Latitude'],\n",
    "                                   longitudes=df_grp_price['Longitude']\n",
    "                                  )"
   ]
  },
  {
   "cell_type": "code",
   "execution_count": null,
   "metadata": {},
   "outputs": [],
   "source": [
    "location_venues"
   ]
  },
  {
   "cell_type": "code",
   "execution_count": null,
   "metadata": {},
   "outputs": [],
   "source": [
    "location_venues.groupby('Street').count()"
   ]
  },
  {
   "cell_type": "code",
   "execution_count": null,
   "metadata": {},
   "outputs": [],
   "source": [
    "# get the List of Unique Categories\n",
    "print('There are {} uniques categories.'.format(len(location_venues['Venue Category'].unique())))"
   ]
  },
  {
   "cell_type": "code",
   "execution_count": null,
   "metadata": {},
   "outputs": [],
   "source": [
    "# one hot encoding\n",
    "venues_onehot = pd.get_dummies(location_venues[['Venue Category']], prefix=\"\", prefix_sep=\"\")\n",
    "\n",
    "# add street column back to dataframe\n",
    "venues_onehot['Street'] = location_venues['Street'] \n",
    "\n",
    "# move street column to the first column\n",
    "fixed_columns = [venues_onehot.columns[-1]] + list(venues_onehot.columns[:-1])\n",
    "\n",
    "#fixed_columns\n",
    "venues_onehot = venues_onehot[fixed_columns]\n",
    "\n",
    "venues_onehot.head()"
   ]
  },
  {
   "cell_type": "code",
   "execution_count": null,
   "metadata": {},
   "outputs": [],
   "source": [
    "nyc_grouped = venues_onehot.groupby('Street').mean().reset_index()\n",
    "nyc_grouped"
   ]
  },
  {
   "cell_type": "code",
   "execution_count": null,
   "metadata": {},
   "outputs": [],
   "source": [
    "# What are the top 5 venues/facilities nearby profitable real estate investments?#\n",
    "num_top_venues = 5\n",
    "\n",
    "for hood in nyc_grouped['Street']:\n",
    "    print(\"----\"+hood+\"----\")\n",
    "    temp = nyc_grouped[nyc_grouped['Street'] == hood].T.reset_index()\n",
    "    temp.columns = ['venue','freq']\n",
    "    temp = temp.iloc[1:]\n",
    "    temp['freq'] = temp['freq'].astype(float)\n",
    "    temp = temp.round({'freq': 2})\n",
    "    print(temp.sort_values('freq', ascending=False).reset_index(drop=True).head(num_top_venues))\n",
    "    print('\\n')"
   ]
  },
  {
   "cell_type": "code",
   "execution_count": null,
   "metadata": {},
   "outputs": [],
   "source": [
    "# Define a function to return the most common venues/facilities nearby real estate investments#\n",
    "\n",
    "def return_most_common_venues(row, num_top_venues):\n",
    "    row_categories = row.iloc[1:]\n",
    "    row_categories_sorted = row_categories.sort_values(ascending=False)\n",
    "    \n",
    "    return row_categories_sorted.index.values[0:num_top_venues]"
   ]
  },
  {
   "cell_type": "code",
   "execution_count": null,
   "metadata": {},
   "outputs": [],
   "source": [
    "num_top_venues = 10\n",
    "\n",
    "indicators = ['st', 'nd', 'rd']\n",
    "\n",
    "# create columns according to number of top venues\n",
    "columns = ['Street']\n",
    "for ind in np.arange(num_top_venues):\n",
    "    try:\n",
    "        columns.append('{}{} Most Common Venue'.format(ind+1, indicators[ind]))\n",
    "    except:\n",
    "        columns.append('{}th Most Common Venue'.format(ind+1))"
   ]
  },
  {
   "cell_type": "code",
   "execution_count": null,
   "metadata": {},
   "outputs": [],
   "source": [
    "# create a new dataframe\n",
    "venues_sorted = pd.DataFrame(columns=columns)\n",
    "venues_sorted['Street'] = nyc_grouped['Street']\n",
    "\n",
    "for ind in np.arange(nyc_grouped.shape[0]):\n",
    "    venues_sorted.iloc[ind, 1:] = return_most_common_venues(nyc_grouped.iloc[ind, :], num_top_venues)"
   ]
  },
  {
   "cell_type": "code",
   "execution_count": null,
   "metadata": {},
   "outputs": [],
   "source": [
    "venues_sorted.head()"
   ]
  },
  {
   "cell_type": "code",
   "execution_count": null,
   "metadata": {},
   "outputs": [],
   "source": [
    "venues_sorted.shape"
   ]
  },
  {
   "cell_type": "code",
   "execution_count": null,
   "metadata": {},
   "outputs": [],
   "source": [
    "nyc_grouped = df_grp_price\n",
    "print(nyc_grouped.shape)"
   ]
  },
  {
   "cell_type": "markdown",
   "metadata": {},
   "source": [
    "After our inspection of venues/facilities/amenities nearby the most profitable real estate investments in New York City, we could begin by clustering properties by venues/facilities/amenities nearby."
   ]
  },
  {
   "cell_type": "code",
   "execution_count": null,
   "metadata": {},
   "outputs": [],
   "source": [
    "#Distribute in 5 Clusters\n",
    "\n",
    "# set number of clusters\n",
    "kclusters = 5\n",
    "\n",
    "nyc_grouped_clustering = nyc_grouped.drop('Neighborhood', 1)\n",
    "\n",
    "# run k-means clustering\n",
    "kmeans = KMeans(n_clusters=kclusters, random_state=0).fit(nyc_grouped_clustering)\n",
    "\n",
    "# check cluster labels generated for each row in the dataframe\n",
    "kmeans.labels_[0:50]"
   ]
  },
  {
   "cell_type": "code",
   "execution_count": null,
   "metadata": {},
   "outputs": [],
   "source": [
    "#Dataframe to include Clusters\n",
    "\n",
    "nyc_grouped_clustering=df_grp_price\n",
    "nyc_grouped_clustering.head()"
   ]
  },
  {
   "cell_type": "code",
   "execution_count": null,
   "metadata": {},
   "outputs": [],
   "source": [
    "df_grp_price.shape"
   ]
  },
  {
   "cell_type": "code",
   "execution_count": null,
   "metadata": {},
   "outputs": [],
   "source": [
    "nyc_grouped_clustering.shape"
   ]
  },
  {
   "cell_type": "code",
   "execution_count": null,
   "metadata": {},
   "outputs": [],
   "source": [
    "venues_sorted.shape"
   ]
  },
  {
   "cell_type": "code",
   "execution_count": null,
   "metadata": {},
   "outputs": [],
   "source": [
    "kmeans.labels_.shape"
   ]
  },
  {
   "cell_type": "code",
   "execution_count": null,
   "metadata": {},
   "outputs": [],
   "source": [
    "#add clustering labels\n",
    "nyc_grouped_clustering['Cluster Labels'] = kmeans.labels_\n",
    "\n",
    "# merge wdc with New york city to add latitude/longitude for each neighborhood\n",
    "nyc_grouped_clustering = nyc_grouped_clustering.join(venues_sorted.set_index('Street'), on='Neighborhood')\n",
    "\n",
    "nyc_grouped_clustering.head(30) # check the last columns!"
   ]
  },
  {
   "cell_type": "code",
   "execution_count": null,
   "metadata": {
    "scrolled": false
   },
   "outputs": [],
   "source": [
    "# Create Map\n",
    "\n",
    "map_clusters = folium.Map(location=[latitude, longitude], zoom_start=11)\n",
    "\n",
    "# set color scheme for the clusters\n",
    "x = np.arange(kclusters)\n",
    "ys = [i+x+(i*x)**2 for i in range(kclusters)]\n",
    "colors_array = cm.rainbow(np.linspace(0, 1, len(ys)))\n",
    "rainbow = [colors.rgb2hex(i) for i in colors_array]\n",
    "\n",
    "# add markers to the map\n",
    "markers_colors = []\n",
    "for lat, lon, poi, cluster in zip(nyc_grouped_clustering['Latitude'], nyc_grouped_clustering['Longitude'],\n",
    "                                  nyc_grouped_clustering['Neighborhood'], nyc_grouped_clustering['Cluster Labels']):\n",
    "    label = folium.Popup(str(poi) + ' Cluster ' + str(cluster), parse_html=True)\n",
    "    folium.CircleMarker(\n",
    "        [lat, lon],\n",
    "        radius=5,\n",
    "        popup=label,\n",
    "        color=rainbow[cluster-1],\n",
    "        fill=True,\n",
    "        fill_color=rainbow[cluster-1],\n",
    "        fill_opacity=0.7).add_to(map_clusters)\n",
    "       \n",
    "map_clusters"
   ]
  },
  {
   "cell_type": "code",
   "execution_count": null,
   "metadata": {},
   "outputs": [],
   "source": [
    "nyc_grouped_clustering.loc[nyc_grouped_clustering['Cluster Labels'] == 0, \n",
    "                              nyc_grouped_clustering.columns[[1] + list(range(5, nyc_grouped_clustering.shape[1]))]].head()\n"
   ]
  },
  {
   "cell_type": "code",
   "execution_count": null,
   "metadata": {},
   "outputs": [],
   "source": [
    "nyc_grouped_clustering.loc[nyc_grouped_clustering['Cluster Labels'] == 1, \n",
    "                              nyc_grouped_clustering.columns[[1] + list(range(5, nyc_grouped_clustering.shape[1]))]].head()\n"
   ]
  },
  {
   "cell_type": "code",
   "execution_count": null,
   "metadata": {},
   "outputs": [],
   "source": [
    "nyc_grouped_clustering.loc[nyc_grouped_clustering['Cluster Labels'] == 2, \n",
    "                              nyc_grouped_clustering.columns[[1] + list(range(5, nyc_grouped_clustering.shape[1]))]].head()\n"
   ]
  },
  {
   "cell_type": "code",
   "execution_count": null,
   "metadata": {},
   "outputs": [],
   "source": [
    "nyc_grouped_clustering.loc[nyc_grouped_clustering['Cluster Labels'] == 3, \n",
    "                              nyc_grouped_clustering.columns[[1] + list(range(5, nyc_grouped_clustering.shape[1]))]].head()\n"
   ]
  },
  {
   "cell_type": "code",
   "execution_count": null,
   "metadata": {},
   "outputs": [],
   "source": [
    "nyc_grouped_clustering.loc[nyc_grouped_clustering['Cluster Labels'] == 4, \n",
    "                              nyc_grouped_clustering.columns[[1] + list(range(5, nyc_grouped_clustering.shape[1]))]].head()\n"
   ]
  },
  {
   "cell_type": "markdown",
   "metadata": {},
   "source": [
    "#### Results and discussion\n",
    "\n",
    "We performed a clustering technique on New York neighborhoods in order to recommend venues and the current average price of real estate where home-buyers can make a real estate investment. We recommended profitable venues according to amenities and essential facilities surrounding such venues i.e. elementary schools, high schools, hospitals & grocery stores.\n",
    "\n",
    "We started by collecting New york city rolling prices of properties data from Kaggle ([ https://www.kaggle.com/new-york-city/nyc-property-sales#nyc-rolling-sales.csv]( https://www.kaggle.com/new-york-city/nyc-property-sales#nyc-rolling-sales.csv)) and the relative price paid data were extracted from . Moreover, to explore and target recommended locations across different venues according to the presence of amenities and essential facilities, we accessed data through FourSquare API interface and arranged them as a data frame for visualization. Integrating data from FourSquare API and the new york property we suggest which neighbourhoods are great for real-estate investment business based on the surrounding facilities and amenities.\n",
    "\n",
    "The Methodology section can be broken down into four stages: \n",
    "    1. Collect Data \n",
    "    2. Explore and Understand Data \n",
    "    3. Data preparation and preprocessing \n",
    "    4. Modeling\n",
    "    \n",
    "In the modeling section, we used the k-means clustering technique as it is fast and efficient in terms of computational cost, it is highly flexible to account for mutations in real estate market in New York and it is accurate."
   ]
  },
  {
   "cell_type": "markdown",
   "metadata": {},
   "source": [
    "#### Conclusion\n",
    "The top areas/neighbourhoods that seem to be good for real-estate business are Annadale, Aden Heights, Arrorchar, Arverne and Astoria. Keep in mind these choices are due to the surrounding facilities that are mostly trending and well placed in terms of availability. \n",
    "\n"
   ]
  }
 ],
 "metadata": {
  "kernelspec": {
   "display_name": "Python 3",
   "language": "python",
   "name": "python3"
  },
  "language_info": {
   "codemirror_mode": {
    "name": "ipython",
    "version": 3
   },
   "file_extension": ".py",
   "mimetype": "text/x-python",
   "name": "python",
   "nbconvert_exporter": "python",
   "pygments_lexer": "ipython3",
   "version": "3.6.8"
  }
 },
 "nbformat": 4,
 "nbformat_minor": 2
}
